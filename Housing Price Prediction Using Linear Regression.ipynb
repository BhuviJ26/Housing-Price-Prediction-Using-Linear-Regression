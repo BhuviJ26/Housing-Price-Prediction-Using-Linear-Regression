{
 "cells": [
  {
   "cell_type": "code",
   "execution_count": 1,
   "id": "a9cb1b7f",
   "metadata": {},
   "outputs": [],
   "source": [
    "import numpy as np\n",
    "import pandas as pd\n",
    "from matplotlib import pyplot as plt"
   ]
  },
  {
   "cell_type": "code",
   "execution_count": 2,
   "id": "fe11c625",
   "metadata": {},
   "outputs": [
    {
     "data": {
      "text/html": [
       "<div>\n",
       "<style scoped>\n",
       "    .dataframe tbody tr th:only-of-type {\n",
       "        vertical-align: middle;\n",
       "    }\n",
       "\n",
       "    .dataframe tbody tr th {\n",
       "        vertical-align: top;\n",
       "    }\n",
       "\n",
       "    .dataframe thead th {\n",
       "        text-align: right;\n",
       "    }\n",
       "</style>\n",
       "<table border=\"1\" class=\"dataframe\">\n",
       "  <thead>\n",
       "    <tr style=\"text-align: right;\">\n",
       "      <th></th>\n",
       "      <th>HOUSE</th>\n",
       "      <th>IR</th>\n",
       "    </tr>\n",
       "  </thead>\n",
       "  <tbody>\n",
       "    <tr>\n",
       "      <th>0</th>\n",
       "      <td>1711</td>\n",
       "      <td>13.08</td>\n",
       "    </tr>\n",
       "    <tr>\n",
       "      <th>1</th>\n",
       "      <td>1632</td>\n",
       "      <td>12.92</td>\n",
       "    </tr>\n",
       "    <tr>\n",
       "      <th>2</th>\n",
       "      <td>1800</td>\n",
       "      <td>13.17</td>\n",
       "    </tr>\n",
       "    <tr>\n",
       "      <th>3</th>\n",
       "      <td>1821</td>\n",
       "      <td>13.20</td>\n",
       "    </tr>\n",
       "    <tr>\n",
       "      <th>4</th>\n",
       "      <td>1680</td>\n",
       "      <td>12.91</td>\n",
       "    </tr>\n",
       "    <tr>\n",
       "      <th>...</th>\n",
       "      <td>...</td>\n",
       "      <td>...</td>\n",
       "    </tr>\n",
       "    <tr>\n",
       "      <th>247</th>\n",
       "      <td>2075</td>\n",
       "      <td>5.82</td>\n",
       "    </tr>\n",
       "    <tr>\n",
       "      <th>248</th>\n",
       "      <td>2158</td>\n",
       "      <td>5.77</td>\n",
       "    </tr>\n",
       "    <tr>\n",
       "      <th>249</th>\n",
       "      <td>2046</td>\n",
       "      <td>6.07</td>\n",
       "    </tr>\n",
       "    <tr>\n",
       "      <th>250</th>\n",
       "      <td>2131</td>\n",
       "      <td>6.33</td>\n",
       "    </tr>\n",
       "    <tr>\n",
       "      <th>251</th>\n",
       "      <td>2002</td>\n",
       "      <td>6.27</td>\n",
       "    </tr>\n",
       "  </tbody>\n",
       "</table>\n",
       "<p>252 rows × 2 columns</p>\n",
       "</div>"
      ],
      "text/plain": [
       "     HOUSE     IR\n",
       "0     1711  13.08\n",
       "1     1632  12.92\n",
       "2     1800  13.17\n",
       "3     1821  13.20\n",
       "4     1680  12.91\n",
       "..     ...    ...\n",
       "247   2075   5.82\n",
       "248   2158   5.77\n",
       "249   2046   6.07\n",
       "250   2131   6.33\n",
       "251   2002   6.27\n",
       "\n",
       "[252 rows x 2 columns]"
      ]
     },
     "execution_count": 2,
     "metadata": {},
     "output_type": "execute_result"
    }
   ],
   "source": [
    "data = pd.read_excel(r\"housing.xls\")\n",
    "data"
   ]
  },
  {
   "cell_type": "code",
   "execution_count": 3,
   "id": "d6869c01",
   "metadata": {},
   "outputs": [
    {
     "data": {
      "text/plain": [
       "(252, 2)"
      ]
     },
     "execution_count": 3,
     "metadata": {},
     "output_type": "execute_result"
    }
   ],
   "source": [
    "data.shape"
   ]
  },
  {
   "cell_type": "code",
   "execution_count": 4,
   "id": "ca742474",
   "metadata": {},
   "outputs": [
    {
     "data": {
      "text/html": [
       "<div>\n",
       "<style scoped>\n",
       "    .dataframe tbody tr th:only-of-type {\n",
       "        vertical-align: middle;\n",
       "    }\n",
       "\n",
       "    .dataframe tbody tr th {\n",
       "        vertical-align: top;\n",
       "    }\n",
       "\n",
       "    .dataframe thead th {\n",
       "        text-align: right;\n",
       "    }\n",
       "</style>\n",
       "<table border=\"1\" class=\"dataframe\">\n",
       "  <thead>\n",
       "    <tr style=\"text-align: right;\">\n",
       "      <th></th>\n",
       "      <th>HOUSE</th>\n",
       "      <th>IR</th>\n",
       "    </tr>\n",
       "  </thead>\n",
       "  <tbody>\n",
       "    <tr>\n",
       "      <th>0</th>\n",
       "      <td>1711</td>\n",
       "      <td>13.08</td>\n",
       "    </tr>\n",
       "    <tr>\n",
       "      <th>1</th>\n",
       "      <td>1632</td>\n",
       "      <td>12.92</td>\n",
       "    </tr>\n",
       "    <tr>\n",
       "      <th>2</th>\n",
       "      <td>1800</td>\n",
       "      <td>13.17</td>\n",
       "    </tr>\n",
       "    <tr>\n",
       "      <th>3</th>\n",
       "      <td>1821</td>\n",
       "      <td>13.20</td>\n",
       "    </tr>\n",
       "    <tr>\n",
       "      <th>4</th>\n",
       "      <td>1680</td>\n",
       "      <td>12.91</td>\n",
       "    </tr>\n",
       "  </tbody>\n",
       "</table>\n",
       "</div>"
      ],
      "text/plain": [
       "   HOUSE     IR\n",
       "0   1711  13.08\n",
       "1   1632  12.92\n",
       "2   1800  13.17\n",
       "3   1821  13.20\n",
       "4   1680  12.91"
      ]
     },
     "execution_count": 4,
     "metadata": {},
     "output_type": "execute_result"
    }
   ],
   "source": [
    "data.head()"
   ]
  },
  {
   "cell_type": "code",
   "execution_count": null,
   "id": "5d2a54b0",
   "metadata": {},
   "outputs": [],
   "source": []
  },
  {
   "cell_type": "code",
   "execution_count": 5,
   "id": "ed9de768",
   "metadata": {},
   "outputs": [
    {
     "name": "stdout",
     "output_type": "stream",
     "text": [
      "0    1711\n",
      "1    1632\n",
      "2    1800\n",
      "3    1821\n",
      "4    1680\n",
      "Name: HOUSE, dtype: int64 0    13.08\n",
      "1    12.92\n",
      "2    13.17\n",
      "3    13.20\n",
      "4    12.91\n",
      "Name: IR, dtype: float64\n"
     ]
    }
   ],
   "source": [
    "x = data[\"HOUSE\"]\n",
    "y = data[\"IR\"]\n",
    "print(x[0:5],y[0:5])"
   ]
  },
  {
   "cell_type": "code",
   "execution_count": 6,
   "id": "0fc1f76b",
   "metadata": {},
   "outputs": [
    {
     "data": {
      "image/png": "[encoded data removed]",
      "text/plain": [
       "<Figure size 432x288 with 1 Axes>"
      ]
     },
     "metadata": {
      "needs_background": "light"
     },
     "output_type": "display_data"
    }
   ],
   "source": [
    "plt.plot(x,'red',label='Size')\n",
    "plt.plot(y,'blue',label='Price')\n",
    "plt.legend()\n",
    "plt.show()"
   ]
  },
  {
   "cell_type": "code",
   "execution_count": 7,
   "id": "e7584057",
   "metadata": {},
   "outputs": [
    {
     "name": "stdout",
     "output_type": "stream",
     "text": [
      "0    0.114165\n",
      "1    0.058335\n",
      "2    0.177063\n",
      "3    0.191904\n",
      "4    0.092257\n",
      "Name: HOUSE, dtype: float64 0    0.603000\n",
      "1    0.582925\n",
      "2    0.614293\n",
      "3    0.618057\n",
      "4    0.581670\n",
      "Name: IR, dtype: float64\n"
     ]
    }
   ],
   "source": [
    "#Normalization\n",
    "x=(x-np.mean(x))/(max(x)-min(x))\n",
    "y=(y-np.mean(y))/(max(y)-min(y))\n",
    "print(x[0:5],y[0:5])"
   ]
  },
  {
   "cell_type": "code",
   "execution_count": 8,
   "id": "06cfa621",
   "metadata": {},
   "outputs": [
    {
     "data": {
      "image/png": "[encoded data removed]",
      "text/plain": [
       "<Figure size 432x288 with 1 Axes>"
      ]
     },
     "metadata": {
      "needs_background": "light"
     },
     "output_type": "display_data"
    }
   ],
   "source": [
    "plt.plot(x,'red',label='Size')\n",
    "plt.plot(y,'blue',label='Price')\n",
    "plt.legend()\n",
    "plt.show()"
   ]
  },
  {
   "cell_type": "code",
   "execution_count": null,
   "id": "cff3c06b",
   "metadata": {},
   "outputs": [],
   "source": []
  },
  {
   "cell_type": "code",
   "execution_count": 9,
   "id": "90806ed0",
   "metadata": {},
   "outputs": [],
   "source": [
    "#data.value"
   ]
  },
  {
   "cell_type": "code",
   "execution_count": 10,
   "id": "166f38f4",
   "metadata": {},
   "outputs": [],
   "source": [
    "x = x.values.reshape(len(x),1)"
   ]
  },
  {
   "cell_type": "code",
   "execution_count": 11,
   "id": "1613c06a",
   "metadata": {},
   "outputs": [
    {
     "data": {
      "text/plain": [
       "(252, 1)"
      ]
     },
     "execution_count": 11,
     "metadata": {},
     "output_type": "execute_result"
    }
   ],
   "source": [
    "x.shape"
   ]
  },
  {
   "cell_type": "code",
   "execution_count": 12,
   "id": "eb12a186",
   "metadata": {},
   "outputs": [
    {
     "data": {
      "text/plain": [
       "numpy.ndarray"
      ]
     },
     "execution_count": 12,
     "metadata": {},
     "output_type": "execute_result"
    }
   ],
   "source": [
    "type(x)"
   ]
  },
  {
   "cell_type": "code",
   "execution_count": 13,
   "id": "9858abc6",
   "metadata": {},
   "outputs": [
    {
     "data": {
      "text/plain": [
       "(252,)"
      ]
     },
     "execution_count": 13,
     "metadata": {},
     "output_type": "execute_result"
    }
   ],
   "source": [
    "y.shape"
   ]
  },
  {
   "cell_type": "code",
   "execution_count": 14,
   "id": "0f823c2a",
   "metadata": {},
   "outputs": [],
   "source": [
    "y = y.values.reshape(len(y),1)"
   ]
  },
  {
   "cell_type": "code",
   "execution_count": 15,
   "id": "67eb8921",
   "metadata": {},
   "outputs": [
    {
     "data": {
      "text/plain": [
       "(252, 1)"
      ]
     },
     "execution_count": 15,
     "metadata": {},
     "output_type": "execute_result"
    }
   ],
   "source": [
    "y.shape"
   ]
  },
  {
   "cell_type": "code",
   "execution_count": 16,
   "id": "ba3f07c4",
   "metadata": {},
   "outputs": [
    {
     "data": {
      "text/plain": [
       "numpy.ndarray"
      ]
     },
     "execution_count": 16,
     "metadata": {},
     "output_type": "execute_result"
    }
   ],
   "source": [
    "type(y)"
   ]
  },
  {
   "cell_type": "code",
   "execution_count": 17,
   "id": "b60de4f8",
   "metadata": {},
   "outputs": [
    {
     "data": {
      "image/png": "[encoded data removed]",
      "text/plain": [
       "<Figure size 432x288 with 1 Axes>"
      ]
     },
     "metadata": {
      "needs_background": "light"
     },
     "output_type": "display_data"
    }
   ],
   "source": [
    "plt.scatter(x,y)\n",
    "plt.xlabel('Size in sq ft')\n",
    "plt.ylabel('Price')\n",
    "plt.title('Real Data')\n",
    "plt.savefig('Test.png')\n"
   ]
  },
  {
   "cell_type": "markdown",
   "id": "92392999",
   "metadata": {},
   "source": [
    "# Linear Regression"
   ]
  },
  {
   "cell_type": "code",
   "execution_count": 18,
   "id": "96c09b44",
   "metadata": {},
   "outputs": [],
   "source": [
    "def h(x,theta,b): #hypothesis function\n",
    "    return (x@theta)+b"
   ]
  },
  {
   "cell_type": "code",
   "execution_count": null,
   "id": "165e442b",
   "metadata": {},
   "outputs": [],
   "source": []
  },
  {
   "cell_type": "code",
   "execution_count": 19,
   "id": "031ab0e3",
   "metadata": {},
   "outputs": [],
   "source": [
    "def cost_function(x,y,theta,b): #Cost Function\n",
    "    return ((h(x,theta,b)-y).T@(h(x,theta,b)-y))/(2*y.shape[0])"
   ]
  },
  {
   "cell_type": "code",
   "execution_count": 20,
   "id": "b76b607c",
   "metadata": {},
   "outputs": [],
   "source": [
    "def gradient_desent(x,y,theta,b,l_r,epochs):\n",
    "    m=x.shape[0]\n",
    "    j_all = []\n",
    "    \n",
    "    for i in range(epochs):\n",
    "        h_of_x = h(x,theta,b)\n",
    "        cost1d = (1/m)*(x.T@(h_of_x - y)) \n",
    "        cost0d = (1/m)*((h_of_x - y))\n",
    "        theta = theta - (l_r)*cost1d\n",
    "        b = b - (l_r*cost0d)\n",
    "        j_all.append(cost_function(x,y,theta,b))\n",
    "        \n",
    "    return theta,b,j_all"
   ]
  },
  {
   "cell_type": "code",
   "execution_count": null,
   "id": "51562a5e",
   "metadata": {},
   "outputs": [],
   "source": []
  },
  {
   "cell_type": "code",
   "execution_count": 21,
   "id": "ce42bd5d",
   "metadata": {},
   "outputs": [
    {
     "name": "stdout",
     "output_type": "stream",
     "text": [
      "[[0.00308413]]\n",
      "[[-0.3574394]]\n",
      "[[ 4.03455941e-01]\n",
      " [ 3.79071351e-01]\n",
      " [ 4.23801765e-01]\n",
      " [ 4.29294380e-01]\n",
      " [ 3.85422742e-01]\n",
      " [ 3.30352665e-01]\n",
      " [ 3.16542449e-01]\n",
      " [ 3.37951671e-01]\n",
      " [ 3.27984187e-01]\n",
      " [ 3.47542133e-01]\n",
      " [ 2.98887887e-01]\n",
      " [ 2.94133755e-01]\n",
      " [ 2.68596081e-01]\n",
      " [ 2.36727420e-01]\n",
      " [ 1.91154889e-01]\n",
      " [ 1.88581790e-01]\n",
      " [ 1.92618941e-01]\n",
      " [ 2.34210173e-01]\n",
      " [ 2.11118848e-01]\n",
      " [ 1.90363782e-01]\n",
      " [ 1.57511209e-01]\n",
      " [ 1.53460627e-01]\n",
      " [ 1.23515753e-01]\n",
      " [ 1.23966902e-01]\n",
      " [ 1.06505144e-01]\n",
      " [ 9.85189149e-02]\n",
      " [ 8.67323755e-02]\n",
      " [ 1.32440244e-01]\n",
      " [ 1.95313948e-01]\n",
      " [ 1.85518865e-01]\n",
      " [ 1.62165452e-01]\n",
      " [ 1.70575968e-01]\n",
      " [ 2.28176723e-01]\n",
      " [ 2.30609641e-01]\n",
      " [ 2.03426927e-01]\n",
      " [ 1.65342213e-01]\n",
      " [ 1.28782245e-01]\n",
      " [ 1.16200854e-01]\n",
      " [ 1.28136162e-01]\n",
      " [ 1.55551973e-01]\n",
      " [ 1.53465986e-01]\n",
      " [ 1.61945786e-01]\n",
      " [ 1.57940855e-01]\n",
      " [ 1.75230211e-01]\n",
      " [ 1.65607529e-01]\n",
      " [ 1.55859711e-01]\n",
      " [ 1.60483349e-01]\n",
      " [ 1.86433493e-01]\n",
      " [ 2.04535975e-01]\n",
      " [ 1.69061423e-01]\n",
      " [ 1.98615844e-01]\n",
      " [ 1.87847051e-01]\n",
      " [ 1.64551105e-01]\n",
      " [ 1.29368731e-01]\n",
      " [ 1.08568014e-01]\n",
      " [ 1.03119435e-01]\n",
      " [ 1.06287608e-01]\n",
      " [ 1.11565401e-01]\n",
      " [ 8.85771937e-02]\n",
      " [ 7.13318736e-02]\n",
      " [ 1.28594283e-01]\n",
      " [ 1.35319468e-01]\n",
      " [ 1.18828192e-01]\n",
      " [ 1.20623615e-01]\n",
      " [ 1.23952373e-01]\n",
      " [ 9.34817084e-02]\n",
      " [ 8.31151843e-02]\n",
      " [ 7.95211098e-02]\n",
      " [ 8.50932101e-02]\n",
      " [ 7.08114421e-02]\n",
      " [ 7.68787271e-02]\n",
      " [ 2.38527305e-02]\n",
      " [-3.95514714e-03]\n",
      " [-4.27127168e-04]\n",
      " [ 3.29046890e-03]\n",
      " [ 1.44024494e-02]\n",
      " [ 1.20796218e-02]\n",
      " [ 2.98727504e-02]\n",
      " [ 3.07315265e-02]\n",
      " [ 1.80601343e-03]\n",
      " [-2.14104471e-02]\n",
      " [-2.37316605e-02]\n",
      " [-3.20036105e-02]\n",
      " [-5.21534013e-02]\n",
      " [-4.32493145e-02]\n",
      " [-6.18718924e-03]\n",
      " [ 1.50157968e-02]\n",
      " [-2.15457850e-02]\n",
      " [-1.86482874e-02]\n",
      " [-4.15451930e-02]\n",
      " [-7.24385299e-02]\n",
      " [-7.13380697e-02]\n",
      " [-8.20257631e-02]\n",
      " [-5.99758174e-02]\n",
      " [-4.70700282e-02]\n",
      " [-5.22414740e-02]\n",
      " [-7.05603931e-02]\n",
      " [-9.74031483e-02]\n",
      " [-1.30507608e-01]\n",
      " [-1.06841613e-01]\n",
      " [-1.06544076e-01]\n",
      " [-1.07516172e-01]\n",
      " [-1.27963500e-01]\n",
      " [-1.29015080e-01]\n",
      " [-1.37618402e-01]\n",
      " [-1.37434185e-01]\n",
      " [-1.13761217e-01]\n",
      " [-8.96150826e-02]\n",
      " [-1.37128060e-01]\n",
      " [-1.20352678e-01]\n",
      " [-4.47391288e-02]\n",
      " [-8.93966287e-03]\n",
      " [ 2.22410090e-02]\n",
      " [-1.09547518e-02]\n",
      " [ 1.00876495e-02]\n",
      " [ 3.82917409e-03]\n",
      " [ 1.76630225e-02]\n",
      " [ 3.69878717e-02]\n",
      " [ 6.50105723e-02]\n",
      " [ 5.90480194e-02]\n",
      " [ 4.79596714e-02]\n",
      " [ 9.15797587e-03]\n",
      " [-3.00207417e-02]\n",
      " [-3.83958094e-02]\n",
      " [-5.98254346e-02]\n",
      " [-9.55250116e-02]\n",
      " [-6.55887254e-02]\n",
      " [-5.25459841e-02]\n",
      " [-7.69069413e-02]\n",
      " [-8.95388261e-02]\n",
      " [-8.50859755e-02]\n",
      " [-1.02420983e-01]\n",
      " [-1.10486697e-01]\n",
      " [-1.02968791e-01]\n",
      " [-7.03036640e-02]\n",
      " [-3.21426928e-02]\n",
      " [-2.28750146e-02]\n",
      " [-8.64212603e-03]\n",
      " [-1.34247336e-02]\n",
      " [-2.05167381e-02]\n",
      " [-1.45574139e-02]\n",
      " [-5.13794693e-02]\n",
      " [-6.06337169e-02]\n",
      " [-7.99161441e-02]\n",
      " [-6.47788287e-02]\n",
      " [-5.87115437e-02]\n",
      " [-4.32885078e-02]\n",
      " [-1.91337860e-02]\n",
      " [-4.23620629e-02]\n",
      " [-5.43634252e-02]\n",
      " [-7.78435882e-02]\n",
      " [-8.64146893e-02]\n",
      " [-6.71542803e-02]\n",
      " [-8.20751584e-02]\n",
      " [-8.98787849e-02]\n",
      " [-9.02321744e-02]\n",
      " [-1.05016100e-01]\n",
      " [-9.22912997e-02]\n",
      " [-8.77149276e-02]\n",
      " [-9.09421821e-02]\n",
      " [-9.15372557e-02]\n",
      " [-8.69694712e-02]\n",
      " [-8.24371354e-02]\n",
      " [-9.73021608e-02]\n",
      " [-1.17852606e-01]\n",
      " [-9.88558995e-02]\n",
      " [-9.44062777e-02]\n",
      " [-8.66112387e-02]\n",
      " [-8.76305994e-02]\n",
      " [-9.76555503e-02]\n",
      " [-7.35464792e-02]\n",
      " [-1.06377034e-01]\n",
      " [-7.95901317e-02]\n",
      " [-5.57463773e-02]\n",
      " [-3.30659091e-02]\n",
      " [-1.17157690e-02]\n",
      " [-2.31236720e-02]\n",
      " [-2.47719409e-02]\n",
      " [-2.75056250e-02]\n",
      " [-5.15814243e-03]\n",
      " [ 7.81531558e-03]\n",
      " [ 3.23148393e-02]\n",
      " [ 5.42320465e-03]\n",
      " [ 1.59067461e-03]\n",
      " [ 2.32147190e-02]\n",
      " [ 2.67608990e-03]\n",
      " [-2.26585773e-02]\n",
      " [-2.05285544e-02]\n",
      " [-3.50605942e-02]\n",
      " [-3.74967415e-02]\n",
      " [-4.11466686e-02]\n",
      " [-7.31845022e-02]\n",
      " [-9.07004979e-02]\n",
      " [-8.54023018e-02]\n",
      " [-9.85041244e-02]\n",
      " [-7.94633814e-02]\n",
      " [-8.04827422e-02]\n",
      " [-7.50814284e-02]\n",
      " [-7.23917807e-02]\n",
      " [-1.01925798e-01]\n",
      " [-1.12933046e-01]\n",
      " [-1.31995808e-01]\n",
      " [-1.19614195e-01]\n",
      " [-9.23031160e-02]\n",
      " [-7.84896714e-02]\n",
      " [-6.76854296e-02]\n",
      " [-8.60312100e-02]\n",
      " [-9.50486164e-02]\n",
      " [-8.36713191e-02]\n",
      " [-1.03295320e-01]\n",
      " [-1.25150846e-01]\n",
      " [-1.44213607e-01]\n",
      " [-1.34564064e-01]\n",
      " [-1.56192951e-01]\n",
      " [-1.43730239e-01]\n",
      " [-1.40102330e-01]\n",
      " [-1.40695789e-01]\n",
      " [-1.80335857e-01]\n",
      " [-1.73010756e-01]\n",
      " [-1.80621578e-01]\n",
      " [-1.90607851e-01]\n",
      " [-1.93088035e-01]\n",
      " [-1.57045270e-01]\n",
      " [-1.16828402e-01]\n",
      " [-1.09743371e-01]\n",
      " [-1.21367711e-01]\n",
      " [-1.05689561e-01]\n",
      " [-1.13505003e-01]\n",
      " [-1.46278092e-01]\n",
      " [-1.63842967e-01]\n",
      " [-1.56230530e-01]\n",
      " [-1.25485962e-01]\n",
      " [-9.40211839e-02]\n",
      " [-1.15203766e-01]\n",
      " [-1.07476396e-01]\n",
      " [-1.19203854e-01]\n",
      " [-1.46381209e-01]\n",
      " [-1.23905362e-01]\n",
      " [-1.66258710e-01]\n",
      " [-1.25999936e-01]\n",
      " [-1.15024908e-01]\n",
      " [-1.10034450e-01]\n",
      " [-1.39459991e-01]\n",
      " [-1.11811084e-01]\n",
      " [-1.29558562e-01]\n",
      " [-1.34065651e-01]\n",
      " [-1.25781884e-01]\n",
      " [-1.15564129e-01]\n",
      " [-1.07163814e-01]\n",
      " [-1.00141093e-01]\n",
      " [-6.69689646e-02]\n",
      " [-9.08970472e-02]]\n"
     ]
    }
   ],
   "source": [
    "theta = np.zeros((x.shape[1],1))\n",
    "b=0\n",
    "\n",
    "\n",
    "# manually change\n",
    "\n",
    "l_r = 0.05\n",
    "epochs = 5000\n",
    "\n",
    "\n",
    "theta,b,j_all=gradient_desent(x,y,theta,b,l_r,epochs)\n",
    "\n",
    "cost_fn = cost_function(x,y,theta,b)\n",
    "\n",
    "print(cost_fn)\n",
    "print(theta)\n",
    "print(b)"
   ]
  },
  {
   "cell_type": "code",
   "execution_count": 22,
   "id": "27640c1e",
   "metadata": {},
   "outputs": [
    {
     "name": "stdout",
     "output_type": "stream",
     "text": [
      "[[ 3.62648827e-01]\n",
      " [ 3.58220218e-01]\n",
      " [ 3.60512597e-01]\n",
      " [ 3.60700458e-01]\n",
      " [ 3.52446456e-01]\n",
      " [ 2.98386809e-01]\n",
      " [ 2.82555734e-01]\n",
      " [ 2.89061122e-01]\n",
      " [ 2.96018330e-01]\n",
      " [ 2.75664315e-01]\n",
      " [ 2.61364669e-01]\n",
      " [ 1.94974343e-01]\n",
      " [ 1.61858449e-01]\n",
      " [ 1.61313099e-01]\n",
      " [ 1.08667563e-01]\n",
      " [ 9.16958442e-02]\n",
      " [ 1.15688976e-01]\n",
      " [ 1.59048460e-01]\n",
      " [ 1.52376613e-01]\n",
      " [ 1.25306363e-01]\n",
      " [ 1.22766672e-01]\n",
      " [ 1.20231734e-01]\n",
      " [ 1.04938087e-01]\n",
      " [ 5.23416912e-02]\n",
      " [ 4.97837675e-02]\n",
      " [ 3.92714646e-02]\n",
      " [ 4.21361516e-02]\n",
      " [ 1.16136043e-01]\n",
      " [ 1.75473244e-01]\n",
      " [ 1.74266811e-01]\n",
      " [ 1.55712938e-01]\n",
      " [ 1.56545234e-01]\n",
      " [ 1.91411327e-01]\n",
      " [ 2.39313568e-01]\n",
      " [ 1.76513218e-01]\n",
      " [ 2.03095985e-01]\n",
      " [ 1.99122366e-01]\n",
      " [ 1.35514290e-01]\n",
      " [ 1.32545764e-01]\n",
      " [ 1.49604673e-01]\n",
      " [ 1.85915004e-01]\n",
      " [ 1.79996185e-01]\n",
      " [ 1.78769935e-01]\n",
      " [ 1.89491500e-01]\n",
      " [ 1.80121425e-01]\n",
      " [ 1.62795387e-01]\n",
      " [ 1.55546479e-01]\n",
      " [ 1.83012267e-01]\n",
      " [ 1.86463523e-01]\n",
      " [ 2.00500012e-01]\n",
      " [ 2.30812255e-01]\n",
      " [ 2.41009872e-01]\n",
      " [ 2.19734785e-01]\n",
      " [ 1.67880326e-01]\n",
      " [ 1.39501388e-01]\n",
      " [ 1.58050508e-01]\n",
      " [ 1.74606870e-01]\n",
      " [ 1.46793100e-01]\n",
      " [ 1.38708726e-01]\n",
      " [ 1.46724141e-01]\n",
      " [ 1.28204346e-01]\n",
      " [ 1.63726768e-01]\n",
      " [ 1.84621380e-01]\n",
      " [ 1.96773705e-01]\n",
      " [ 2.09196327e-01]\n",
      " [ 1.87566920e-01]\n",
      " [ 1.78716040e-01]\n",
      " [ 1.89267977e-01]\n",
      " [ 1.96103114e-01]\n",
      " [ 2.06071652e-01]\n",
      " [ 1.79047374e-01]\n",
      " [ 1.70480271e-01]\n",
      " [ 1.85868251e-01]\n",
      " [ 1.47210843e-01]\n",
      " [ 1.62043162e-01]\n",
      " [ 1.52946555e-01]\n",
      " [ 1.51886764e-01]\n",
      " [ 1.59575599e-01]\n",
      " [ 1.53613976e-01]\n",
      " [ 1.28224966e-01]\n",
      " [ 1.13597155e-01]\n",
      " [ 9.51090716e-02]\n",
      " [ 8.07745452e-02]\n",
      " [ 6.66873308e-02]\n",
      " [ 5.10885046e-02]\n",
      " [ 6.94576859e-02]\n",
      " [ 7.87881263e-02]\n",
      " [ 9.22428001e-02]\n",
      " [ 6.60904523e-02]\n",
      " [ 6.06234539e-02]\n",
      " [ 3.12457611e-02]\n",
      " [ 1.03693819e-02]\n",
      " [ 9.78598242e-03]\n",
      " [ 1.71847018e-02]\n",
      " [ 3.76687115e-02]\n",
      " [ 2.92133701e-02]\n",
      " [ 1.51887760e-02]\n",
      " [-1.16539792e-02]\n",
      " [-1.26773050e-02]\n",
      " [-3.32175969e-02]\n",
      " [-3.34252747e-02]\n",
      " [-3.94495174e-02]\n",
      " [-5.33290539e-02]\n",
      " [-6.60005729e-02]\n",
      " [-8.54660103e-02]\n",
      " [-9.76595533e-02]\n",
      " [-6.99448679e-02]\n",
      " [-8.54580878e-02]\n",
      " [-6.70405468e-02]\n",
      " [-6.66846423e-02]\n",
      " [-4.84129619e-02]\n",
      " [ 1.23946318e-02]\n",
      " [ 2.81662552e-02]\n",
      " [ 2.45255545e-02]\n",
      " [ 3.79897353e-02]\n",
      " [ 2.89525790e-02]\n",
      " [ 3.67238510e-02]\n",
      " [ 6.21112766e-02]\n",
      " [ 7.47249288e-02]\n",
      " [ 8.29083875e-02]\n",
      " [ 8.39451924e-02]\n",
      " [ 6.81307658e-02]\n",
      " [ 4.58767408e-02]\n",
      " [ 3.29547408e-02]\n",
      " [-3.47429964e-04]\n",
      " [-2.77109643e-02]\n",
      " [-4.32440013e-02]\n",
      " [-1.88339293e-02]\n",
      " [-3.13223410e-02]\n",
      " [-4.39542258e-02]\n",
      " [-6.04677853e-02]\n",
      " [-7.24980381e-02]\n",
      " [-8.96576173e-02]\n",
      " [-8.82022878e-02]\n",
      " [-3.86124679e-02]\n",
      " [-2.36913731e-02]\n",
      " [-1.13924067e-02]\n",
      " [ 1.21869539e-02]\n",
      " [ 6.14130963e-03]\n",
      " [-2.24223198e-02]\n",
      " [ 4.25080723e-03]\n",
      " [-1.16048380e-02]\n",
      " [-4.53619987e-02]\n",
      " [-3.45841511e-02]\n",
      " [-1.56577255e-02]\n",
      " [-4.26820035e-02]\n",
      " [-1.99333544e-02]\n",
      " [-4.61988985e-03]\n",
      " [-1.52177991e-02]\n",
      " [-4.03547437e-02]\n",
      " [-4.94362877e-02]\n",
      " [-4.61348434e-02]\n",
      " [-6.62811811e-02]\n",
      " [-7.46342680e-02]\n",
      " [-7.99118211e-02]\n",
      " [-9.44112222e-02]\n",
      " [-9.88382467e-02]\n",
      " [-1.01017280e-01]\n",
      " [-9.21465828e-02]\n",
      " [-8.85534387e-02]\n",
      " [-8.81380830e-02]\n",
      " [-1.10094070e-01]\n",
      " [-1.19960354e-01]\n",
      " [-1.13606361e-01]\n",
      " [-1.26073372e-01]\n",
      " [-1.40673443e-01]\n",
      " [-1.22330416e-01]\n",
      " [-1.47879548e-01]\n",
      " [-1.37784185e-01]\n",
      " [-1.28105763e-01]\n",
      " [-1.14100986e-01]\n",
      " [-1.07272186e-01]\n",
      " [-9.51365103e-02]\n",
      " [-5.81571737e-02]\n",
      " [-6.32635140e-02]\n",
      " [-3.66086196e-02]\n",
      " [-4.47326271e-02]\n",
      " [-3.95604974e-02]\n",
      " [-5.23984756e-02]\n",
      " [-4.52074341e-02]\n",
      " [-1.40462468e-02]\n",
      " [-1.50600655e-02]\n",
      " [-8.35492249e-03]\n",
      " [-1.77448142e-02]\n",
      " [ 1.67622050e-02]\n",
      " [ 2.65293556e-04]\n",
      " [-8.19067961e-04]\n",
      " [-1.83924184e-02]\n",
      " [-2.43358083e-02]\n",
      " [-3.73814643e-02]\n",
      " [-4.15366062e-02]\n",
      " [-6.87749000e-02]\n",
      " [-1.03468196e-01]\n",
      " [-1.04485183e-01]\n",
      " [-1.08745749e-01]\n",
      " [-1.04608839e-01]\n",
      " [-9.45134767e-02]\n",
      " [-9.69429908e-02]\n",
      " [-1.02841993e-01]\n",
      " [-1.06357453e-01]\n",
      " [-1.16101665e-01]\n",
      " [-1.29607064e-01]\n",
      " [-1.32887107e-01]\n",
      " [-9.69873785e-02]\n",
      " [-1.16012890e-01]\n",
      " [-1.38300211e-01]\n",
      " [-1.09408416e-01]\n",
      " [-1.05795455e-01]\n",
      " [-1.37866622e-01]\n",
      " [-1.45618077e-01]\n",
      " [-1.51811948e-01]\n",
      " [-1.65317348e-01]\n",
      " [-1.98863661e-01]\n",
      " [-1.81085802e-01]\n",
      " [-1.95146861e-01]\n",
      " [-2.00360210e-01]\n",
      " [-2.17373147e-01]\n",
      " [-2.00429168e-01]\n",
      " [-2.17606980e-01]\n",
      " [-2.04251391e-01]\n",
      " [-2.41519259e-01]\n",
      " [-2.73301895e-01]\n",
      " [-2.44837351e-01]\n",
      " [-1.88453613e-01]\n",
      " [-2.08144961e-01]\n",
      " [-2.26842307e-01]\n",
      " [-2.40466609e-01]\n",
      " [-2.41714261e-01]\n",
      " [-2.37606675e-01]\n",
      " [-2.38752073e-01]\n",
      " [-2.69535954e-01]\n",
      " [-2.40054422e-01]\n",
      " [-2.03032282e-01]\n",
      " [-1.85565940e-01]\n",
      " [-2.21792249e-01]\n",
      " [-2.39077069e-01]\n",
      " [-2.36194149e-01]\n",
      " [-2.55903729e-01]\n",
      " [-2.25000946e-01]\n",
      " [-2.50420083e-01]\n",
      " [-2.63442753e-01]\n",
      " [-2.77650454e-01]\n",
      " [-2.16895171e-01]\n",
      " [-2.45577703e-01]\n",
      " [-2.51957850e-01]\n",
      " [-2.67579662e-01]\n",
      " [-2.57275037e-01]\n",
      " [-2.48320318e-01]\n",
      " [-2.60886414e-01]\n",
      " [-2.25571669e-01]\n",
      " [-2.13871166e-01]\n",
      " [-2.05212900e-01]]\n"
     ]
    }
   ],
   "source": [
    "#Predicted Values\n",
    "print(h(x,theta,b))"
   ]
  },
  {
   "cell_type": "code",
   "execution_count": 23,
   "id": "0e34c781",
   "metadata": {},
   "outputs": [
    {
     "data": {
      "text/plain": [
       "0.06313809929532735"
      ]
     },
     "execution_count": 23,
     "metadata": {},
     "output_type": "execute_result"
    }
   ],
   "source": [
    "from sklearn.metrics import mean_absolute_error\n",
    "mean_absolute_error(y,h(x,theta,b))"
   ]
  },
  {
   "cell_type": "code",
   "execution_count": 26,
   "id": "894f4e8b",
   "metadata": {},
   "outputs": [
    {
     "data": {
      "image/png": "[encoded data removed]",
      "text/plain": [
       "<Figure size 432x288 with 1 Axes>"
      ]
     },
     "metadata": {
      "needs_background": "light"
     },
     "output_type": "display_data"
    }
   ],
   "source": [
    "plt.plot(y,'red',label='Real Value')\n",
    "plt.plot(h(x,theta,b),'blue',label='Predicted Value')\n",
    "plt.legend()\n",
    "plt.show()"
   ]
  },
  {
   "cell_type": "code",
   "execution_count": null,
   "id": "1d600344",
   "metadata": {},
   "outputs": [],
   "source": []
  }
 ],
 "metadata": {
  "kernelspec": {
   "display_name": "Python 3 (ipykernel)",
   "language": "python",
   "name": "python3"
  },
  "language_info": {
   "codemirror_mode": {
    "name": "ipython",
    "version": 3
   },
   "file_extension": ".py",
   "mimetype": "text/x-python",
   "name": "python",
   "nbconvert_exporter": "python",
   "pygments_lexer": "ipython3",
   "version": "3.9.12"
  }
 },
 "nbformat": 4,
 "nbformat_minor": 5
}
